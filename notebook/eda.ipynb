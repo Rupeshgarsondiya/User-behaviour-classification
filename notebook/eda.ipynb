{
 "cells": [
  {
   "cell_type": "code",
   "execution_count": 1,
   "metadata": {},
   "outputs": [
    {
     "data": {
      "text/plain": [
       "'\\nAuthor       : Rupesh Garsondiya\\ngithub       : @Rupeshgarsondiya\\nEmail        : rupeshgarsondiya.edu@gmail.com\\nOrganization : L.J University\\n'"
      ]
     },
     "execution_count": 1,
     "metadata": {},
     "output_type": "execute_result"
    }
   ],
   "source": [
    "'''\n",
    "Author       : Rupesh Garsondiya\n",
    "github       : @Rupeshgarsondiya\n",
    "Email        : rupeshgarsondiya.edu@gmail.com\n",
    "Organization : L.J University\n",
    "'''"
   ]
  },
  {
   "cell_type": "code",
   "execution_count": 4,
   "metadata": {},
   "outputs": [],
   "source": [
    "# import required library\n",
    "import random\n",
    "import pandas as pd # type: ignore\n",
    "import numpy as np # type: ignore\n",
    "import matplotlib.pyplot as plt # type: ignore\n",
    "import seaborn as sns # type: ignore\n",
    "\n"
   ]
  },
  {
   "cell_type": "code",
   "execution_count": 5,
   "metadata": {},
   "outputs": [],
   "source": [
    "# create pandas dataframe\n",
    "df = pd.read_csv('/home/rupeshgarsondiya/workstation/lab/Project-1/Data/user_behavior_dataset.csv')\n"
   ]
  },
  {
   "cell_type": "code",
   "execution_count": 6,
   "metadata": {},
   "outputs": [],
   "source": [
    "df.drop('User ID',axis=1,inplace=True)"
   ]
  },
  {
   "cell_type": "code",
   "execution_count": 15,
   "metadata": {},
   "outputs": [
    {
     "name": "stdout",
     "output_type": "stream",
     "text": [
      "Data Overview:\n"
     ]
    },
    {
     "data": {
      "text/html": [
       "<div>\n",
       "<style scoped>\n",
       "    .dataframe tbody tr th:only-of-type {\n",
       "        vertical-align: middle;\n",
       "    }\n",
       "\n",
       "    .dataframe tbody tr th {\n",
       "        vertical-align: top;\n",
       "    }\n",
       "\n",
       "    .dataframe thead th {\n",
       "        text-align: right;\n",
       "    }\n",
       "</style>\n",
       "<table border=\"1\" class=\"dataframe\">\n",
       "  <thead>\n",
       "    <tr style=\"text-align: right;\">\n",
       "      <th></th>\n",
       "      <th>Device Model</th>\n",
       "      <th>Operating System</th>\n",
       "      <th>App Usage Time (min/day)</th>\n",
       "      <th>Screen On Time (hours/day)</th>\n",
       "      <th>Battery Drain (mAh/day)</th>\n",
       "      <th>Number of Apps Installed</th>\n",
       "      <th>Data Usage (MB/day)</th>\n",
       "      <th>Age</th>\n",
       "      <th>Gender</th>\n",
       "      <th>User Behavior Class</th>\n",
       "    </tr>\n",
       "  </thead>\n",
       "  <tbody>\n",
       "    <tr>\n",
       "      <th>91</th>\n",
       "      <td>Google Pixel 5</td>\n",
       "      <td>Android</td>\n",
       "      <td>291</td>\n",
       "      <td>4.1</td>\n",
       "      <td>1474</td>\n",
       "      <td>46</td>\n",
       "      <td>827</td>\n",
       "      <td>32</td>\n",
       "      <td>Female</td>\n",
       "      <td>3</td>\n",
       "    </tr>\n",
       "    <tr>\n",
       "      <th>197</th>\n",
       "      <td>OnePlus 9</td>\n",
       "      <td>Android</td>\n",
       "      <td>151</td>\n",
       "      <td>3.7</td>\n",
       "      <td>1116</td>\n",
       "      <td>32</td>\n",
       "      <td>320</td>\n",
       "      <td>41</td>\n",
       "      <td>Female</td>\n",
       "      <td>2</td>\n",
       "    </tr>\n",
       "    <tr>\n",
       "      <th>484</th>\n",
       "      <td>iPhone 12</td>\n",
       "      <td>iOS</td>\n",
       "      <td>444</td>\n",
       "      <td>6.0</td>\n",
       "      <td>1873</td>\n",
       "      <td>61</td>\n",
       "      <td>1093</td>\n",
       "      <td>39</td>\n",
       "      <td>Female</td>\n",
       "      <td>4</td>\n",
       "    </tr>\n",
       "    <tr>\n",
       "      <th>508</th>\n",
       "      <td>Google Pixel 5</td>\n",
       "      <td>Android</td>\n",
       "      <td>267</td>\n",
       "      <td>5.9</td>\n",
       "      <td>1740</td>\n",
       "      <td>45</td>\n",
       "      <td>791</td>\n",
       "      <td>22</td>\n",
       "      <td>Male</td>\n",
       "      <td>3</td>\n",
       "    </tr>\n",
       "    <tr>\n",
       "      <th>47</th>\n",
       "      <td>Samsung Galaxy S21</td>\n",
       "      <td>Android</td>\n",
       "      <td>138</td>\n",
       "      <td>3.6</td>\n",
       "      <td>889</td>\n",
       "      <td>25</td>\n",
       "      <td>323</td>\n",
       "      <td>27</td>\n",
       "      <td>Female</td>\n",
       "      <td>2</td>\n",
       "    </tr>\n",
       "    <tr>\n",
       "      <th>131</th>\n",
       "      <td>Xiaomi Mi 11</td>\n",
       "      <td>Android</td>\n",
       "      <td>320</td>\n",
       "      <td>7.2</td>\n",
       "      <td>2056</td>\n",
       "      <td>69</td>\n",
       "      <td>1226</td>\n",
       "      <td>52</td>\n",
       "      <td>Female</td>\n",
       "      <td>4</td>\n",
       "    </tr>\n",
       "    <tr>\n",
       "      <th>371</th>\n",
       "      <td>Google Pixel 5</td>\n",
       "      <td>Android</td>\n",
       "      <td>561</td>\n",
       "      <td>10.6</td>\n",
       "      <td>2547</td>\n",
       "      <td>86</td>\n",
       "      <td>1823</td>\n",
       "      <td>22</td>\n",
       "      <td>Male</td>\n",
       "      <td>5</td>\n",
       "    </tr>\n",
       "    <tr>\n",
       "      <th>333</th>\n",
       "      <td>Google Pixel 5</td>\n",
       "      <td>Android</td>\n",
       "      <td>461</td>\n",
       "      <td>7.5</td>\n",
       "      <td>2001</td>\n",
       "      <td>69</td>\n",
       "      <td>1324</td>\n",
       "      <td>34</td>\n",
       "      <td>Female</td>\n",
       "      <td>4</td>\n",
       "    </tr>\n",
       "    <tr>\n",
       "      <th>199</th>\n",
       "      <td>Xiaomi Mi 11</td>\n",
       "      <td>Android</td>\n",
       "      <td>126</td>\n",
       "      <td>2.8</td>\n",
       "      <td>971</td>\n",
       "      <td>32</td>\n",
       "      <td>431</td>\n",
       "      <td>35</td>\n",
       "      <td>Female</td>\n",
       "      <td>2</td>\n",
       "    </tr>\n",
       "    <tr>\n",
       "      <th>408</th>\n",
       "      <td>Samsung Galaxy S21</td>\n",
       "      <td>Android</td>\n",
       "      <td>357</td>\n",
       "      <td>7.8</td>\n",
       "      <td>2289</td>\n",
       "      <td>74</td>\n",
       "      <td>1242</td>\n",
       "      <td>22</td>\n",
       "      <td>Female</td>\n",
       "      <td>4</td>\n",
       "    </tr>\n",
       "  </tbody>\n",
       "</table>\n",
       "</div>"
      ],
      "text/plain": [
       "           Device Model Operating System  App Usage Time (min/day)  \\\n",
       "91       Google Pixel 5          Android                       291   \n",
       "197           OnePlus 9          Android                       151   \n",
       "484           iPhone 12              iOS                       444   \n",
       "508      Google Pixel 5          Android                       267   \n",
       "47   Samsung Galaxy S21          Android                       138   \n",
       "131        Xiaomi Mi 11          Android                       320   \n",
       "371      Google Pixel 5          Android                       561   \n",
       "333      Google Pixel 5          Android                       461   \n",
       "199        Xiaomi Mi 11          Android                       126   \n",
       "408  Samsung Galaxy S21          Android                       357   \n",
       "\n",
       "     Screen On Time (hours/day)  Battery Drain (mAh/day)  \\\n",
       "91                          4.1                     1474   \n",
       "197                         3.7                     1116   \n",
       "484                         6.0                     1873   \n",
       "508                         5.9                     1740   \n",
       "47                          3.6                      889   \n",
       "131                         7.2                     2056   \n",
       "371                        10.6                     2547   \n",
       "333                         7.5                     2001   \n",
       "199                         2.8                      971   \n",
       "408                         7.8                     2289   \n",
       "\n",
       "     Number of Apps Installed  Data Usage (MB/day)  Age  Gender  \\\n",
       "91                         46                  827   32  Female   \n",
       "197                        32                  320   41  Female   \n",
       "484                        61                 1093   39  Female   \n",
       "508                        45                  791   22    Male   \n",
       "47                         25                  323   27  Female   \n",
       "131                        69                 1226   52  Female   \n",
       "371                        86                 1823   22    Male   \n",
       "333                        69                 1324   34  Female   \n",
       "199                        32                  431   35  Female   \n",
       "408                        74                 1242   22  Female   \n",
       "\n",
       "     User Behavior Class  \n",
       "91                     3  \n",
       "197                    2  \n",
       "484                    4  \n",
       "508                    3  \n",
       "47                     2  \n",
       "131                    4  \n",
       "371                    5  \n",
       "333                    4  \n",
       "199                    2  \n",
       "408                    4  "
      ]
     },
     "execution_count": 15,
     "metadata": {},
     "output_type": "execute_result"
    }
   ],
   "source": [
    "# data overview\n",
    "print(\"Data Overview:\") \n",
    "df.sample(10) #  show random 10 rows of the dataframe"
   ]
  },
  {
   "cell_type": "code",
   "execution_count": 16,
   "metadata": {},
   "outputs": [
    {
     "name": "stdout",
     "output_type": "stream",
     "text": [
      "<class 'pandas.core.frame.DataFrame'>\n",
      "RangeIndex: 700 entries, 0 to 699\n",
      "Data columns (total 10 columns):\n",
      " #   Column                      Non-Null Count  Dtype  \n",
      "---  ------                      --------------  -----  \n",
      " 0   Device Model                700 non-null    object \n",
      " 1   Operating System            700 non-null    object \n",
      " 2   App Usage Time (min/day)    700 non-null    int64  \n",
      " 3   Screen On Time (hours/day)  700 non-null    float64\n",
      " 4   Battery Drain (mAh/day)     700 non-null    int64  \n",
      " 5   Number of Apps Installed    700 non-null    int64  \n",
      " 6   Data Usage (MB/day)         700 non-null    int64  \n",
      " 7   Age                         700 non-null    int64  \n",
      " 8   Gender                      700 non-null    object \n",
      " 9   User Behavior Class         700 non-null    int64  \n",
      "dtypes: float64(1), int64(6), object(3)\n",
      "memory usage: 54.8+ KB\n",
      "None\n",
      "\n",
      "\n",
      "       App Usage Time (min/day)  Screen On Time (hours/day)  \\\n",
      "count                700.000000                  700.000000   \n",
      "mean                 271.128571                    5.272714   \n",
      "std                  177.199484                    3.068584   \n",
      "min                   30.000000                    1.000000   \n",
      "25%                  113.250000                    2.500000   \n",
      "50%                  227.500000                    4.900000   \n",
      "75%                  434.250000                    7.400000   \n",
      "max                  598.000000                   12.000000   \n",
      "\n",
      "       Battery Drain (mAh/day)  Number of Apps Installed  Data Usage (MB/day)  \\\n",
      "count               700.000000                700.000000           700.000000   \n",
      "mean               1525.158571                 50.681429           929.742857   \n",
      "std                 819.136414                 26.943324           640.451729   \n",
      "min                 302.000000                 10.000000           102.000000   \n",
      "25%                 722.250000                 26.000000           373.000000   \n",
      "50%                1502.500000                 49.000000           823.500000   \n",
      "75%                2229.500000                 74.000000          1341.000000   \n",
      "max                2993.000000                 99.000000          2497.000000   \n",
      "\n",
      "              Age  User Behavior Class  \n",
      "count  700.000000           700.000000  \n",
      "mean    38.482857             2.990000  \n",
      "std     12.012916             1.401476  \n",
      "min     18.000000             1.000000  \n",
      "25%     28.000000             2.000000  \n",
      "50%     38.000000             3.000000  \n",
      "75%     49.000000             4.000000  \n",
      "max     59.000000             5.000000  \n"
     ]
    }
   ],
   "source": [
    "print(df.info()) # in our dataset no null value\n",
    "print()\n",
    "print()\n",
    "print(df.describe()) # summary statistics"
   ]
  },
  {
   "cell_type": "code",
   "execution_count": 17,
   "metadata": {},
   "outputs": [
    {
     "data": {
      "text/html": [
       "<div>\n",
       "<style scoped>\n",
       "    .dataframe tbody tr th:only-of-type {\n",
       "        vertical-align: middle;\n",
       "    }\n",
       "\n",
       "    .dataframe tbody tr th {\n",
       "        vertical-align: top;\n",
       "    }\n",
       "\n",
       "    .dataframe thead th {\n",
       "        text-align: right;\n",
       "    }\n",
       "</style>\n",
       "<table border=\"1\" class=\"dataframe\">\n",
       "  <thead>\n",
       "    <tr style=\"text-align: right;\">\n",
       "      <th></th>\n",
       "      <th>P_Model</th>\n",
       "      <th>OS</th>\n",
       "      <th>App_Time(hours/day)</th>\n",
       "      <th>Screen_time(hours/day)</th>\n",
       "      <th>Battery_Drain(mAh/day)</th>\n",
       "      <th>Installed_app</th>\n",
       "      <th>Data_Usage(GB/day)</th>\n",
       "      <th>Age</th>\n",
       "      <th>Gender</th>\n",
       "      <th>User Behavior Class</th>\n",
       "    </tr>\n",
       "  </thead>\n",
       "  <tbody>\n",
       "    <tr>\n",
       "      <th>0</th>\n",
       "      <td>Google Pixel 5</td>\n",
       "      <td>Android</td>\n",
       "      <td>393</td>\n",
       "      <td>6.4</td>\n",
       "      <td>1872</td>\n",
       "      <td>67</td>\n",
       "      <td>1122</td>\n",
       "      <td>40</td>\n",
       "      <td>Male</td>\n",
       "      <td>4</td>\n",
       "    </tr>\n",
       "    <tr>\n",
       "      <th>1</th>\n",
       "      <td>OnePlus 9</td>\n",
       "      <td>Android</td>\n",
       "      <td>268</td>\n",
       "      <td>4.7</td>\n",
       "      <td>1331</td>\n",
       "      <td>42</td>\n",
       "      <td>944</td>\n",
       "      <td>47</td>\n",
       "      <td>Female</td>\n",
       "      <td>3</td>\n",
       "    </tr>\n",
       "    <tr>\n",
       "      <th>2</th>\n",
       "      <td>Xiaomi Mi 11</td>\n",
       "      <td>Android</td>\n",
       "      <td>154</td>\n",
       "      <td>4.0</td>\n",
       "      <td>761</td>\n",
       "      <td>32</td>\n",
       "      <td>322</td>\n",
       "      <td>42</td>\n",
       "      <td>Male</td>\n",
       "      <td>2</td>\n",
       "    </tr>\n",
       "    <tr>\n",
       "      <th>3</th>\n",
       "      <td>Google Pixel 5</td>\n",
       "      <td>Android</td>\n",
       "      <td>239</td>\n",
       "      <td>4.8</td>\n",
       "      <td>1676</td>\n",
       "      <td>56</td>\n",
       "      <td>871</td>\n",
       "      <td>20</td>\n",
       "      <td>Male</td>\n",
       "      <td>3</td>\n",
       "    </tr>\n",
       "    <tr>\n",
       "      <th>4</th>\n",
       "      <td>iPhone 12</td>\n",
       "      <td>iOS</td>\n",
       "      <td>187</td>\n",
       "      <td>4.3</td>\n",
       "      <td>1367</td>\n",
       "      <td>58</td>\n",
       "      <td>988</td>\n",
       "      <td>31</td>\n",
       "      <td>Female</td>\n",
       "      <td>3</td>\n",
       "    </tr>\n",
       "  </tbody>\n",
       "</table>\n",
       "</div>"
      ],
      "text/plain": [
       "          P_Model       OS  App_Time(hours/day)  Screen_time(hours/day)  \\\n",
       "0  Google Pixel 5  Android                  393                     6.4   \n",
       "1       OnePlus 9  Android                  268                     4.7   \n",
       "2    Xiaomi Mi 11  Android                  154                     4.0   \n",
       "3  Google Pixel 5  Android                  239                     4.8   \n",
       "4       iPhone 12      iOS                  187                     4.3   \n",
       "\n",
       "   Battery_Drain(mAh/day)  Installed_app  Data_Usage(GB/day)  Age  Gender  \\\n",
       "0                    1872             67                1122   40    Male   \n",
       "1                    1331             42                 944   47  Female   \n",
       "2                     761             32                 322   42    Male   \n",
       "3                    1676             56                 871   20    Male   \n",
       "4                    1367             58                 988   31  Female   \n",
       "\n",
       "   User Behavior Class  \n",
       "0                    4  \n",
       "1                    3  \n",
       "2                    2  \n",
       "3                    3  \n",
       "4                    3  "
      ]
     },
     "execution_count": 17,
     "metadata": {},
     "output_type": "execute_result"
    }
   ],
   "source": [
    "'''Rename column name in dataframe'''\n",
    "df.rename(columns={'Device Model':'P_Model','Operating System':'OS','App Usage Time (min/day)':'App_Time(hours/day)',\n",
    "                   'Screen On Time (hours/day)':'Screen_time(hours/day)','Battery Drain (mAh/day)':'Battery_Drain(mAh/day)',\n",
    "                   'Number of Apps Installed':'Installed_app','Data Usage (MB/day)':'Data_Usage(GB/day)'},inplace=True)\n",
    "df.head()"
   ]
  },
  {
   "cell_type": "code",
   "execution_count": 1,
   "metadata": {},
   "outputs": [
    {
     "ename": "NameError",
     "evalue": "name 'df' is not defined",
     "output_type": "error",
     "traceback": [
      "\u001b[0;31m---------------------------------------------------------------------------\u001b[0m",
      "\u001b[0;31mNameError\u001b[0m                                 Traceback (most recent call last)",
      "Cell \u001b[0;32mIn[1], line 2\u001b[0m\n\u001b[1;32m      1\u001b[0m \u001b[38;5;66;03m# App time convert minit into the hours \u001b[39;00m\n\u001b[0;32m----> 2\u001b[0m df[\u001b[38;5;124m'\u001b[39m\u001b[38;5;124mApp_Time(hours/day)\u001b[39m\u001b[38;5;124m'\u001b[39m]\u001b[38;5;241m=\u001b[39m\u001b[43mdf\u001b[49m[\u001b[38;5;124m'\u001b[39m\u001b[38;5;124mApp_Time(hours/day)\u001b[39m\u001b[38;5;124m'\u001b[39m]\u001b[38;5;241m/\u001b[39m\u001b[38;5;241m60\u001b[39m\n\u001b[1;32m      4\u001b[0m \u001b[38;5;66;03m# convert data use MB into GB\u001b[39;00m\n\u001b[1;32m      5\u001b[0m df[\u001b[38;5;124m'\u001b[39m\u001b[38;5;124mData_Usage(GB/day)\u001b[39m\u001b[38;5;124m'\u001b[39m]\u001b[38;5;241m=\u001b[39mdf[\u001b[38;5;124m'\u001b[39m\u001b[38;5;124mData_Usage(GB/day)\u001b[39m\u001b[38;5;124m'\u001b[39m]\u001b[38;5;241m/\u001b[39m\u001b[38;5;241m1024\u001b[39m\n",
      "\u001b[0;31mNameError\u001b[0m: name 'df' is not defined"
     ]
    }
   ],
   "source": [
    "\n",
    "# App time convert minit into the hours \n",
    "df['App_Time(hours/day)']=df['App_Time(hours/day)']/60\n",
    "\n",
    "# convert data use MB into GB\n",
    "df['Data_Usage(GB/day)']=df['Data_Usage(GB/day)']/1024\n",
    "\n",
    "df.sample(10)"
   ]
  },
  {
   "cell_type": "markdown",
   "metadata": {},
   "source": [
    "# Visulization between cetegorical column\n"
   ]
  },
  {
   "cell_type": "code",
   "execution_count": 69,
   "metadata": {},
   "outputs": [
    {
     "data": {
      "image/png": "[encoded data removed]",
      "text/plain": [
       "<Figure size 640x480 with 1 Axes>"
      ]
     },
     "metadata": {},
     "output_type": "display_data"
    }
   ],
   "source": [
    "#visulization-1\n",
    "# Visuliztion of Adroid user Ios  user\n",
    "df.OS.hist(color = 'green')\n",
    "plt.show()\n",
    "# By this visulization  we can see that most of the users are using android"
   ]
  },
  {
   "cell_type": "code",
   "execution_count": 72,
   "metadata": {},
   "outputs": [
    {
     "data": {
      "image/png": "[encoded data removed]",
      "text/plain": [
       "<Figure size 640x480 with 1 Axes>"
      ]
     },
     "metadata": {},
     "output_type": "display_data"
    },
    {
     "data": {
      "text/plain": [
       "'By this visulization we can say that iPhone 12 and Xiaomi Mi 11 are equal and this is the heigest  model \\n   used by users Lowest mode use by user is One Plus 9 '"
      ]
     },
     "execution_count": 72,
     "metadata": {},
     "output_type": "execute_result"
    }
   ],
   "source": [
    "# visulization-2\n",
    "df.P_Model.hist(color = 'pink') \n",
    "plt.show()\n",
    "'''By this visulization we can say that iPhone 12 and Xiaomi Mi 11 are equal and this is the heigest  model \n",
    "   used by users Lowest mode use by user is One Plus 9 '''"
   ]
  },
  {
   "cell_type": "code",
   "execution_count": 73,
   "metadata": {},
   "outputs": [
    {
     "data": {
      "image/png": "[encoded data removed]",
      "text/plain": [
       "<Figure size 640x480 with 1 Axes>"
      ]
     },
     "metadata": {},
     "output_type": "display_data"
    }
   ],
   "source": [
    "#  visulization-3\n",
    "df['User Behavior Class'].hist(color = 'blue')\n",
    "plt.show()\n",
    "# Heigest  user behavior class is 2 and lowest user behavior is 1 & 5 both are equal"
   ]
  },
  {
   "cell_type": "code",
   "execution_count": 74,
   "metadata": {},
   "outputs": [
    {
     "data": {
      "image/png": "[encoded data removed]",
      "text/plain": [
       "<Figure size 640x480 with 1 Axes>"
      ]
     },
     "metadata": {},
     "output_type": "display_data"
    }
   ],
   "source": [
    "# visulization-4\n",
    "df['Gender'].value_counts().plot(kind='bar')\n",
    "plt.xlabel('Gender')\n",
    "plt.ylabel('Count')\n",
    "plt.title('Age Distribution')\n",
    "plt.show()\n",
    "# Male mobile users more than female user"
   ]
  },
  {
   "cell_type": "code",
   "execution_count": 85,
   "metadata": {},
   "outputs": [
    {
     "data": {
      "image/png": "[encoded data removed]",
      "text/plain": [
       "<Figure size 640x480 with 1 Axes>"
      ]
     },
     "metadata": {},
     "output_type": "display_data"
    },
    {
     "data": {
      "text/plain": [
       "'\\nBy this visulization we can say that most of the male user are using samsuang user  and  most female user are using xiaomi Mi 11'"
      ]
     },
     "execution_count": 85,
     "metadata": {},
     "output_type": "execute_result"
    }
   ],
   "source": [
    "# visulization-5\n",
    "crosstab = pd.crosstab(df['P_Model'], df['Gender'])\n",
    "# Plot the cross-tab as a grouped bar chart\n",
    "crosstab.plot(kind='bar',stacked=False)\n",
    "plt.title('P_Model vs Gender')\n",
    "plt.xlabel('P_Model')\n",
    "plt.ylabel('Count')\n",
    "# Show the plot\n",
    "plt.show()\n",
    "'''\n",
    "By this visulization we can say that most of the male user are using samsuang user  and  most female user are using xiaomi Mi 11'''"
   ]
  },
  {
   "cell_type": "code",
   "execution_count": 88,
   "metadata": {},
   "outputs": [
    {
     "data": {
      "image/png": "[encoded data removed]",
      "text/plain": [
       "<Figure size 640x480 with 1 Axes>"
      ]
     },
     "metadata": {},
     "output_type": "display_data"
    },
    {
     "data": {
      "text/plain": [
       "'By this visulization we see that in famle and male are same for ios user '"
      ]
     },
     "execution_count": 88,
     "metadata": {},
     "output_type": "execute_result"
    }
   ],
   "source": [
    "# visulization-6\n",
    "crosstab = pd.crosstab(df['OS'], df['Gender'])\n",
    "# Plot the cross-tab as a grouped bar chart\n",
    "crosstab.plot(kind='bar',stacked=False)\n",
    "plt.title('OS vs Gender')\n",
    "plt.xlabel('OS')\n",
    "plt.ylabel('Gender')\n",
    "# Show the plot\n",
    "plt.show()\n",
    "'''By this visulization we see that in famle and male are same for ios user '''"
   ]
  },
  {
   "cell_type": "code",
   "execution_count": 38,
   "metadata": {},
   "outputs": [
    {
     "data": {
      "text/html": [
       "<div>\n",
       "<style scoped>\n",
       "    .dataframe tbody tr th:only-of-type {\n",
       "        vertical-align: middle;\n",
       "    }\n",
       "\n",
       "    .dataframe tbody tr th {\n",
       "        vertical-align: top;\n",
       "    }\n",
       "\n",
       "    .dataframe thead th {\n",
       "        text-align: right;\n",
       "    }\n",
       "</style>\n",
       "<table border=\"1\" class=\"dataframe\">\n",
       "  <thead>\n",
       "    <tr style=\"text-align: right;\">\n",
       "      <th></th>\n",
       "      <th>P_Model</th>\n",
       "      <th>OS</th>\n",
       "      <th>App_Time(hours/day)</th>\n",
       "      <th>Screen_time(hours/day)</th>\n",
       "      <th>Battery_Drain(mAh/day)</th>\n",
       "      <th>Installed_app</th>\n",
       "      <th>Data_Usage(GB/day)</th>\n",
       "      <th>Age</th>\n",
       "      <th>Gender</th>\n",
       "      <th>User Behavior Class</th>\n",
       "    </tr>\n",
       "  </thead>\n",
       "  <tbody>\n",
       "    <tr>\n",
       "      <th>0</th>\n",
       "      <td>Google Pixel 5</td>\n",
       "      <td>Android</td>\n",
       "      <td>0.109167</td>\n",
       "      <td>6.4</td>\n",
       "      <td>1872</td>\n",
       "      <td>67</td>\n",
       "      <td>1.095703</td>\n",
       "      <td>40</td>\n",
       "      <td>Male</td>\n",
       "      <td>4</td>\n",
       "    </tr>\n",
       "    <tr>\n",
       "      <th>1</th>\n",
       "      <td>OnePlus 9</td>\n",
       "      <td>Android</td>\n",
       "      <td>0.074444</td>\n",
       "      <td>4.7</td>\n",
       "      <td>1331</td>\n",
       "      <td>42</td>\n",
       "      <td>0.921875</td>\n",
       "      <td>47</td>\n",
       "      <td>Female</td>\n",
       "      <td>3</td>\n",
       "    </tr>\n",
       "    <tr>\n",
       "      <th>2</th>\n",
       "      <td>Xiaomi Mi 11</td>\n",
       "      <td>Android</td>\n",
       "      <td>0.042778</td>\n",
       "      <td>4.0</td>\n",
       "      <td>761</td>\n",
       "      <td>32</td>\n",
       "      <td>0.314453</td>\n",
       "      <td>42</td>\n",
       "      <td>Male</td>\n",
       "      <td>2</td>\n",
       "    </tr>\n",
       "    <tr>\n",
       "      <th>3</th>\n",
       "      <td>Google Pixel 5</td>\n",
       "      <td>Android</td>\n",
       "      <td>0.066389</td>\n",
       "      <td>4.8</td>\n",
       "      <td>1676</td>\n",
       "      <td>56</td>\n",
       "      <td>0.850586</td>\n",
       "      <td>20</td>\n",
       "      <td>Male</td>\n",
       "      <td>3</td>\n",
       "    </tr>\n",
       "    <tr>\n",
       "      <th>4</th>\n",
       "      <td>iPhone 12</td>\n",
       "      <td>iOS</td>\n",
       "      <td>0.051944</td>\n",
       "      <td>4.3</td>\n",
       "      <td>1367</td>\n",
       "      <td>58</td>\n",
       "      <td>0.964844</td>\n",
       "      <td>31</td>\n",
       "      <td>Female</td>\n",
       "      <td>3</td>\n",
       "    </tr>\n",
       "  </tbody>\n",
       "</table>\n",
       "</div>"
      ],
      "text/plain": [
       "          P_Model       OS  App_Time(hours/day)  Screen_time(hours/day)  \\\n",
       "0  Google Pixel 5  Android             0.109167                     6.4   \n",
       "1       OnePlus 9  Android             0.074444                     4.7   \n",
       "2    Xiaomi Mi 11  Android             0.042778                     4.0   \n",
       "3  Google Pixel 5  Android             0.066389                     4.8   \n",
       "4       iPhone 12      iOS             0.051944                     4.3   \n",
       "\n",
       "   Battery_Drain(mAh/day)  Installed_app  Data_Usage(GB/day)  Age  Gender  \\\n",
       "0                    1872             67            1.095703   40    Male   \n",
       "1                    1331             42            0.921875   47  Female   \n",
       "2                     761             32            0.314453   42    Male   \n",
       "3                    1676             56            0.850586   20    Male   \n",
       "4                    1367             58            0.964844   31  Female   \n",
       "\n",
       "   User Behavior Class  \n",
       "0                    4  \n",
       "1                    3  \n",
       "2                    2  \n",
       "3                    3  \n",
       "4                    3  "
      ]
     },
     "execution_count": 38,
     "metadata": {},
     "output_type": "execute_result"
    }
   ],
   "source": [
    "df.head()"
   ]
  },
  {
   "cell_type": "markdown",
   "metadata": {},
   "source": [
    "# Visulization between cetegorical  and numerical column\n"
   ]
  },
  {
   "cell_type": "code",
   "execution_count": 35,
   "metadata": {},
   "outputs": [
    {
     "data": {
      "image/png": "[encoded data removed]",
      "text/plain": [
       "<Figure size 640x480 with 1 Axes>"
      ]
     },
     "metadata": {},
     "output_type": "display_data"
    },
    {
     "data": {
      "text/plain": [
       "'By this visulization we say that older people use ios more than android'"
      ]
     },
     "execution_count": 35,
     "metadata": {},
     "output_type": "execute_result"
    }
   ],
   "source": [
    "# visulization-1\n",
    "# Create a box plot\n",
    "sns.boxplot(x='OS', y='Age', data=df)\n",
    "# Show the plot\n",
    "plt.show()\n",
    "'''By this visulization we say that older people use ios more than android'''"
   ]
  },
  {
   "cell_type": "code",
   "execution_count": 49,
   "metadata": {},
   "outputs": [
    {
     "ename": "TypeError",
     "evalue": "Series.corr() missing 1 required positional argument: 'other'",
     "output_type": "error",
     "traceback": [
      "\u001b[0;31m---------------------------------------------------------------------------\u001b[0m",
      "\u001b[0;31mTypeError\u001b[0m                                 Traceback (most recent call last)",
      "Cell \u001b[0;32mIn[49], line 2\u001b[0m\n\u001b[1;32m      1\u001b[0m \u001b[38;5;66;03m# Correlation matrix\u001b[39;00m\n\u001b[0;32m----> 2\u001b[0m correlation_matrix \u001b[38;5;241m=\u001b[39m \u001b[43mdf\u001b[49m\u001b[38;5;241;43m.\u001b[39;49m\u001b[43miloc\u001b[49m\u001b[43m[\u001b[49m\u001b[43m:\u001b[49m\u001b[43m,\u001b[49m\u001b[38;5;241;43m1\u001b[39;49m\u001b[43m]\u001b[49m\u001b[38;5;241;43m.\u001b[39;49m\u001b[43mcorr\u001b[49m\u001b[43m(\u001b[49m\u001b[43m)\u001b[49m\n\u001b[1;32m      3\u001b[0m plt\u001b[38;5;241m.\u001b[39mfigure(figsize\u001b[38;5;241m=\u001b[39m(\u001b[38;5;241m10\u001b[39m, \u001b[38;5;241m8\u001b[39m))\n\u001b[1;32m      4\u001b[0m sns\u001b[38;5;241m.\u001b[39mheatmap(correlation_matrix, annot\u001b[38;5;241m=\u001b[39m\u001b[38;5;28;01mTrue\u001b[39;00m, cmap\u001b[38;5;241m=\u001b[39m\u001b[38;5;124m'\u001b[39m\u001b[38;5;124mcoolwarm\u001b[39m\u001b[38;5;124m'\u001b[39m)\n",
      "\u001b[0;31mTypeError\u001b[0m: Series.corr() missing 1 required positional argument: 'other'"
     ]
    }
   ],
   "source": [
    "\n"
   ]
  },
  {
   "cell_type": "code",
   "execution_count": null,
   "metadata": {},
   "outputs": [],
   "source": []
  }
 ],
 "metadata": {
  "kernelspec": {
   "display_name": "env-global",
   "language": "python",
   "name": "env-global"
  },
  "language_info": {
   "codemirror_mode": {
    "name": "ipython",
    "version": 3
   },
   "file_extension": ".py",
   "mimetype": "text/x-python",
   "name": "python",
   "nbconvert_exporter": "python",
   "pygments_lexer": "ipython3",
   "version": "3.12.7"
  }
 },
 "nbformat": 4,
 "nbformat_minor": 2
}
